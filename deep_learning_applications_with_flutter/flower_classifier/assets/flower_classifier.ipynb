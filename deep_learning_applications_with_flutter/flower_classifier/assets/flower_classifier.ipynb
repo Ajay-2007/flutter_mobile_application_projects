{
  "nbformat": 4,
  "nbformat_minor": 0,
  "metadata": {
    "colab": {
      "name": "flower_classifier.ipynb",
      "provenance": [],
      "collapsed_sections": []
    },
    "kernelspec": {
      "name": "python3",
      "display_name": "Python 3"
    },
    "accelerator": "GPU"
  },
  "cells": [
    {
      "cell_type": "code",
      "metadata": {
        "id": "y98jZwGRLhux"
      },
      "source": [
        "import tensorflow as tf\n",
        "import os"
      ],
      "execution_count": 1,
      "outputs": []
    },
    {
      "cell_type": "code",
      "metadata": {
        "colab": {
          "base_uri": "https://localhost:8080/"
        },
        "id": "Mvyn_dlfLjLz",
        "outputId": "859401a7-fcfe-448c-ab2d-aef5800f17ce"
      },
      "source": [
        "_URL = 'https://storage.googleapis.com/download.tensorflow.org/example_images/flower_photos.tgz'\n",
        "\n",
        "zip_file = tf.keras.utils.get_file(origin=_URL, fname='flower_photos.tgz', extract=True, cache_subdir='/content')\n",
        "\n",
        "base_dir = os.path.join(os.path.dirname(zip_file), 'flower_photos')"
      ],
      "execution_count": 2,
      "outputs": [
        {
          "output_type": "stream",
          "text": [
            "Downloading data from https://storage.googleapis.com/download.tensorflow.org/example_images/flower_photos.tgz\n",
            "228818944/228813984 [==============================] - 4s 0us/step\n"
          ],
          "name": "stdout"
        }
      ]
    },
    {
      "cell_type": "code",
      "metadata": {
        "colab": {
          "base_uri": "https://localhost:8080/"
        },
        "id": "c585L9U0LjIo",
        "outputId": "b606bf84-ad78-494e-e9aa-6b91e016eb50"
      },
      "source": [
        "IMAGE_SIZE = 224\n",
        "BATCH_SIZE = 64\n",
        "\n",
        "datagen = tf.keras.preprocessing.image.ImageDataGenerator(\n",
        "    rescale=1./255,\n",
        "    validation_split=0.2\n",
        ")\n",
        "\n",
        "train_generator = datagen.flow_from_directory(base_dir,\n",
        "                                              target_size=(IMAGE_SIZE, IMAGE_SIZE),\n",
        "                                              batch_size=BATCH_SIZE,\n",
        "                                              subset='training')\n",
        "\n",
        "val_generator = datagen.flow_from_directory(base_dir,\n",
        "                                              target_size=(IMAGE_SIZE, IMAGE_SIZE),\n",
        "                                              batch_size=BATCH_SIZE,\n",
        "                                              subset='validation')\n"
      ],
      "execution_count": 3,
      "outputs": [
        {
          "output_type": "stream",
          "text": [
            "Found 2939 images belonging to 5 classes.\n",
            "Found 731 images belonging to 5 classes.\n"
          ],
          "name": "stdout"
        }
      ]
    },
    {
      "cell_type": "code",
      "metadata": {
        "colab": {
          "base_uri": "https://localhost:8080/"
        },
        "id": "HkrzJrJfLjF2",
        "outputId": "2824e14b-0d86-4d7b-b934-3a7227c80568"
      },
      "source": [
        "print(train_generator.class_indices)\n",
        "\n",
        "labels = '\\n'.join(sorted(train_generator.class_indices.keys()))\n",
        "\n",
        "with open('labels.txt', 'w') as f:\n",
        "  f.write(labels)"
      ],
      "execution_count": 5,
      "outputs": [
        {
          "output_type": "stream",
          "text": [
            "{'daisy': 0, 'dandelion': 1, 'roses': 2, 'sunflowers': 3, 'tulips': 4}\n"
          ],
          "name": "stdout"
        }
      ]
    },
    {
      "cell_type": "code",
      "metadata": {
        "colab": {
          "base_uri": "https://localhost:8080/"
        },
        "id": "L8TTDfepLjCr",
        "outputId": "76b274aa-3567-452c-9ca2-2257c9674cde"
      },
      "source": [
        "IMAGE_SHAPE = (IMAGE_SIZE, IMAGE_SIZE, 3)\n",
        "\n",
        "base_model =  tf.keras.applications.MobileNetV2(input_shape=IMAGE_SHAPE,\n",
        "                                                include_top=False, \n",
        "                                                weights='imagenet')"
      ],
      "execution_count": 6,
      "outputs": [
        {
          "output_type": "stream",
          "text": [
            "Downloading data from https://storage.googleapis.com/tensorflow/keras-applications/mobilenet_v2/mobilenet_v2_weights_tf_dim_ordering_tf_kernels_1.0_224_no_top.h5\n",
            "9412608/9406464 [==============================] - 0s 0us/step\n"
          ],
          "name": "stdout"
        }
      ]
    },
    {
      "cell_type": "code",
      "metadata": {
        "id": "PFMM7I9oLi8t"
      },
      "source": [
        "base_model.trainable = False"
      ],
      "execution_count": 7,
      "outputs": []
    },
    {
      "cell_type": "code",
      "metadata": {
        "id": "Q4WTkiLeLi5q"
      },
      "source": [
        "model = tf.keras.Sequential([\n",
        "  base_model,\n",
        "  tf.keras.layers.Conv2D(32, 3, activation='relu'),\n",
        "  tf.keras.layers.Dropout(0.2),\n",
        "  tf.keras.layers.GlobalAveragePooling2D(),\n",
        "  tf.keras.layers.Dense(5, activation='softmax')\n",
        "])"
      ],
      "execution_count": 8,
      "outputs": []
    },
    {
      "cell_type": "code",
      "metadata": {
        "id": "MuJwPYwaLi3Q"
      },
      "source": [
        "model.compile(optimizer=tf.keras.optimizers.Adam(),\n",
        "              loss='categorical_crossentropy',\n",
        "              metrics=['accuracy'])"
      ],
      "execution_count": 9,
      "outputs": []
    },
    {
      "cell_type": "code",
      "metadata": {
        "colab": {
          "base_uri": "https://localhost:8080/"
        },
        "id": "1RkT3EPXLiwa",
        "outputId": "76b9ba77-c2e2-4a7b-a094-d46548568cbe"
      },
      "source": [
        "epochs = 10\n",
        "\n",
        "history = model.fit(train_generator, \n",
        "                    epochs=epochs,\n",
        "                    validation_data=val_generator)"
      ],
      "execution_count": 10,
      "outputs": [
        {
          "output_type": "stream",
          "text": [
            "Epoch 1/10\n",
            "46/46 [==============================] - 21s 284ms/step - loss: 0.9861 - accuracy: 0.6750 - val_loss: 0.4247 - val_accuracy: 0.8495\n",
            "Epoch 2/10\n",
            "46/46 [==============================] - 12s 255ms/step - loss: 0.2436 - accuracy: 0.9198 - val_loss: 0.4241 - val_accuracy: 0.8482\n",
            "Epoch 3/10\n",
            "46/46 [==============================] - 12s 255ms/step - loss: 0.1481 - accuracy: 0.9486 - val_loss: 0.4234 - val_accuracy: 0.8646\n",
            "Epoch 4/10\n",
            "46/46 [==============================] - 12s 255ms/step - loss: 0.0912 - accuracy: 0.9715 - val_loss: 0.4395 - val_accuracy: 0.8605\n",
            "Epoch 5/10\n",
            "46/46 [==============================] - 12s 255ms/step - loss: 0.0557 - accuracy: 0.9849 - val_loss: 0.4579 - val_accuracy: 0.8632\n",
            "Epoch 6/10\n",
            "46/46 [==============================] - 12s 258ms/step - loss: 0.0294 - accuracy: 0.9979 - val_loss: 0.5024 - val_accuracy: 0.8646\n",
            "Epoch 7/10\n",
            "46/46 [==============================] - 12s 257ms/step - loss: 0.0160 - accuracy: 0.9995 - val_loss: 0.5539 - val_accuracy: 0.8591\n",
            "Epoch 8/10\n",
            "46/46 [==============================] - 12s 254ms/step - loss: 0.0184 - accuracy: 0.9980 - val_loss: 0.5078 - val_accuracy: 0.8728\n",
            "Epoch 9/10\n",
            "46/46 [==============================] - 12s 252ms/step - loss: 0.0096 - accuracy: 0.9995 - val_loss: 0.5366 - val_accuracy: 0.8755\n",
            "Epoch 10/10\n",
            "46/46 [==============================] - 12s 254ms/step - loss: 0.0142 - accuracy: 0.9979 - val_loss: 0.5539 - val_accuracy: 0.8700\n"
          ],
          "name": "stdout"
        }
      ]
    },
    {
      "cell_type": "code",
      "metadata": {
        "colab": {
          "base_uri": "https://localhost:8080/"
        },
        "id": "rxjHwz44LikE",
        "outputId": "605b9baf-e80c-4d76-d975-c63d43cd5e35"
      },
      "source": [
        "saved_model_dir = ''\n",
        "tf.saved_model.save(model, \n",
        "                    saved_model_dir)\n",
        "\n",
        "converter = tf.lite.TFLiteConverter.from_saved_model(saved_model_dir)\n",
        "tflite_model = converter.convert()\n",
        "\n",
        "\n",
        "with open('flower_classifier_model.tflite', 'wb') as file:\n",
        "  file.write(tflite_model)"
      ],
      "execution_count": 11,
      "outputs": [
        {
          "output_type": "stream",
          "text": [
            "INFO:tensorflow:Assets written to: assets\n"
          ],
          "name": "stdout"
        }
      ]
    },
    {
      "cell_type": "code",
      "metadata": {
        "colab": {
          "base_uri": "https://localhost:8080/",
          "height": 17
        },
        "id": "pdRPHfGgQRY7",
        "outputId": "277607b4-2692-4ef2-8771-581759539703"
      },
      "source": [
        "from google.colab import files\n",
        "\n",
        "files.download('flower_classifier_model.tflite')\n",
        "files.download('labels.txt')"
      ],
      "execution_count": 13,
      "outputs": [
        {
          "output_type": "display_data",
          "data": {
            "application/javascript": [
              "\n",
              "    async function download(id, filename, size) {\n",
              "      if (!google.colab.kernel.accessAllowed) {\n",
              "        return;\n",
              "      }\n",
              "      const div = document.createElement('div');\n",
              "      const label = document.createElement('label');\n",
              "      label.textContent = `Downloading \"${filename}\": `;\n",
              "      div.appendChild(label);\n",
              "      const progress = document.createElement('progress');\n",
              "      progress.max = size;\n",
              "      div.appendChild(progress);\n",
              "      document.body.appendChild(div);\n",
              "\n",
              "      const buffers = [];\n",
              "      let downloaded = 0;\n",
              "\n",
              "      const channel = await google.colab.kernel.comms.open(id);\n",
              "      // Send a message to notify the kernel that we're ready.\n",
              "      channel.send({})\n",
              "\n",
              "      for await (const message of channel.messages) {\n",
              "        // Send a message to notify the kernel that we're ready.\n",
              "        channel.send({})\n",
              "        if (message.buffers) {\n",
              "          for (const buffer of message.buffers) {\n",
              "            buffers.push(buffer);\n",
              "            downloaded += buffer.byteLength;\n",
              "            progress.value = downloaded;\n",
              "          }\n",
              "        }\n",
              "      }\n",
              "      const blob = new Blob(buffers, {type: 'application/binary'});\n",
              "      const a = document.createElement('a');\n",
              "      a.href = window.URL.createObjectURL(blob);\n",
              "      a.download = filename;\n",
              "      div.appendChild(a);\n",
              "      a.click();\n",
              "      div.remove();\n",
              "    }\n",
              "  "
            ],
            "text/plain": [
              "<IPython.core.display.Javascript object>"
            ]
          },
          "metadata": {
            "tags": []
          }
        },
        {
          "output_type": "display_data",
          "data": {
            "application/javascript": [
              "download(\"download_8eb185fe-1e06-4773-8fe3-7bff89d0d43f\", \"labels.txt\", 39)"
            ],
            "text/plain": [
              "<IPython.core.display.Javascript object>"
            ]
          },
          "metadata": {
            "tags": []
          }
        }
      ]
    },
    {
      "cell_type": "code",
      "metadata": {
        "id": "-xZcuyIpRRPG"
      },
      "source": [
        ""
      ],
      "execution_count": null,
      "outputs": []
    }
  ]
}